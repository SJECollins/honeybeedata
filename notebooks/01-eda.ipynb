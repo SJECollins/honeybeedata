{
 "cells": [
  {
   "cell_type": "markdown",
   "metadata": {},
   "source": [
    "# Exploratory Data Analysis of Honey Bee Viruses\n",
    "\n",
    "This notebook explores the cleaned virus data to identify trends and patterns.\n",
    "It will:\n",
    "- Explore and summarise general information from the dataset\n",
    "- Visualise correlations and distributions of virus occurrences"
   ]
  },
  {
   "cell_type": "code",
   "execution_count": 35,
   "metadata": {},
   "outputs": [
    {
     "data": {
      "text/html": [
       "<div>\n",
       "<style scoped>\n",
       "    .dataframe tbody tr th:only-of-type {\n",
       "        vertical-align: middle;\n",
       "    }\n",
       "\n",
       "    .dataframe tbody tr th {\n",
       "        vertical-align: top;\n",
       "    }\n",
       "\n",
       "    .dataframe thead th {\n",
       "        text-align: right;\n",
       "    }\n",
       "</style>\n",
       "<table border=\"1\" class=\"dataframe\">\n",
       "  <thead>\n",
       "    <tr style=\"text-align: right;\">\n",
       "      <th></th>\n",
       "      <th>No</th>\n",
       "      <th>Sample</th>\n",
       "      <th>ABPV</th>\n",
       "      <th>BQCV</th>\n",
       "      <th>CBPV</th>\n",
       "      <th>DWV</th>\n",
       "      <th>SBV</th>\n",
       "      <th>Region</th>\n",
       "      <th>Sample Type</th>\n",
       "    </tr>\n",
       "  </thead>\n",
       "  <tbody>\n",
       "    <tr>\n",
       "      <th>0</th>\n",
       "      <td>776 A</td>\n",
       "      <td>1A</td>\n",
       "      <td>negative</td>\n",
       "      <td>weak positive</td>\n",
       "      <td>negative</td>\n",
       "      <td>positive</td>\n",
       "      <td>positive</td>\n",
       "      <td>Bács-Kiskun</td>\n",
       "      <td>Adult</td>\n",
       "    </tr>\n",
       "    <tr>\n",
       "      <th>1</th>\n",
       "      <td>776 B</td>\n",
       "      <td>1B</td>\n",
       "      <td>negative</td>\n",
       "      <td>negative</td>\n",
       "      <td>negative</td>\n",
       "      <td>negative</td>\n",
       "      <td>negative</td>\n",
       "      <td>Bács-Kiskun</td>\n",
       "      <td>Brood</td>\n",
       "    </tr>\n",
       "    <tr>\n",
       "      <th>2</th>\n",
       "      <td>776 C</td>\n",
       "      <td>2A</td>\n",
       "      <td>positive</td>\n",
       "      <td>negative</td>\n",
       "      <td>negative</td>\n",
       "      <td>positive</td>\n",
       "      <td>positive</td>\n",
       "      <td>Bács-Kiskun</td>\n",
       "      <td>Adult</td>\n",
       "    </tr>\n",
       "    <tr>\n",
       "      <th>3</th>\n",
       "      <td>776 D</td>\n",
       "      <td>2B</td>\n",
       "      <td>positive</td>\n",
       "      <td>negative</td>\n",
       "      <td>negative</td>\n",
       "      <td>positive</td>\n",
       "      <td>negative</td>\n",
       "      <td>Bács-Kiskun</td>\n",
       "      <td>Brood</td>\n",
       "    </tr>\n",
       "    <tr>\n",
       "      <th>4</th>\n",
       "      <td>776 E</td>\n",
       "      <td>3A</td>\n",
       "      <td>positive</td>\n",
       "      <td>negative</td>\n",
       "      <td>negative</td>\n",
       "      <td>positive</td>\n",
       "      <td>weak positive</td>\n",
       "      <td>Bács-Kiskun</td>\n",
       "      <td>Adult</td>\n",
       "    </tr>\n",
       "  </tbody>\n",
       "</table>\n",
       "</div>"
      ],
      "text/plain": [
       "      No Sample      ABPV           BQCV      CBPV       DWV            SBV  \\\n",
       "0  776 A     1A  negative  weak positive  negative  positive       positive   \n",
       "1  776 B     1B  negative       negative  negative  negative       negative   \n",
       "2  776 C     2A  positive       negative  negative  positive       positive   \n",
       "3  776 D     2B  positive       negative  negative  positive       negative   \n",
       "4  776 E     3A  positive       negative  negative  positive  weak positive   \n",
       "\n",
       "        Region Sample Type  \n",
       "0  Bács-Kiskun       Adult  \n",
       "1  Bács-Kiskun       Brood  \n",
       "2  Bács-Kiskun       Adult  \n",
       "3  Bács-Kiskun       Brood  \n",
       "4  Bács-Kiskun       Adult  "
      ]
     },
     "execution_count": 35,
     "metadata": {},
     "output_type": "execute_result"
    }
   ],
   "source": [
    "import pandas as pd\n",
    "import seaborn as sns\n",
    "import matplotlib.pyplot as plt\n",
    "\n",
    "data = pd.read_csv(\"../data/bee_virus_data_cleaned.csv\")\n",
    "data.head()"
   ]
  },
  {
   "cell_type": "code",
   "execution_count": 36,
   "metadata": {},
   "outputs": [
    {
     "name": "stdout",
     "output_type": "stream",
     "text": [
      "Dataset info: \n",
      "(373, 9)\n",
      "<class 'pandas.core.frame.DataFrame'>\n",
      "RangeIndex: 373 entries, 0 to 372\n",
      "Data columns (total 9 columns):\n",
      " #   Column       Non-Null Count  Dtype \n",
      "---  ------       --------------  ----- \n",
      " 0   No           373 non-null    object\n",
      " 1   Sample       373 non-null    object\n",
      " 2   ABPV         373 non-null    object\n",
      " 3   BQCV         373 non-null    object\n",
      " 4   CBPV         373 non-null    object\n",
      " 5   DWV          373 non-null    object\n",
      " 6   SBV          373 non-null    object\n",
      " 7   Region       373 non-null    object\n",
      " 8   Sample Type  373 non-null    object\n",
      "dtypes: object(9)\n",
      "memory usage: 26.4+ KB\n",
      "None\n",
      "           No Sample      ABPV      BQCV      CBPV       DWV       SBV  \\\n",
      "count     373    373       373       373       373       373       373   \n",
      "unique    373     40         3         3         3         3         3   \n",
      "top     798 F     1A  positive  negative  negative  negative  negative   \n",
      "freq        1     19       201       279       370       170       187   \n",
      "\n",
      "          Region Sample Type  \n",
      "count        373         373  \n",
      "unique        19           2  \n",
      "top     Veszprém       Adult  \n",
      "freq          37         197  \n"
     ]
    }
   ],
   "source": [
    "print(\"Dataset info: \")\n",
    "print(data.shape)\n",
    "print(data.info())\n",
    "print(data.describe())"
   ]
  },
  {
   "cell_type": "code",
   "execution_count": 37,
   "metadata": {},
   "outputs": [
    {
     "name": "stdout",
     "output_type": "stream",
     "text": [
      "Total number of samples:  373\n",
      "\n",
      "Number of Regions:  19\n",
      "\n",
      "Sample Types:  ['Adult' 'Brood']\n",
      "\n",
      "Virus results:\n",
      "               ABPV  BQCV  CBPV  DWV  SBV\n",
      "negative        106   279   370  170  187\n",
      "positive        201    58     1  136  128\n",
      "weak positive    66    36     2   67   58\n"
     ]
    }
   ],
   "source": [
    "print(\"Total number of samples: \", data[\"No\"].count())\n",
    "print(\"\")\n",
    "print(\"Number of Regions: \",len(data[\"Region\"].unique()))\n",
    "print(\"\")\n",
    "print(\"Sample Types: \", data[\"Sample Type\"].unique())\n",
    "print(\"\")\n",
    "print(\"Virus results:\")\n",
    "print(data[['ABPV', 'BQCV', 'CBPV', 'DWV', 'SBV']].apply(pd.Series.value_counts))"
   ]
  },
  {
   "cell_type": "code",
   "execution_count": 38,
   "metadata": {},
   "outputs": [
    {
     "name": "stdout",
     "output_type": "stream",
     "text": [
      "Simplified virus results:\n",
      "          ABPV  BQCV  CBPV  DWV  SBV\n",
      "negative   106   279   370  170  187\n",
      "positive   267    94     3  203  186\n",
      "\n",
      "Percentage of samples positive for each virus:\n",
      "ABPV    71.581769\n",
      "BQCV    25.201072\n",
      "CBPV     0.804290\n",
      "DWV     54.423592\n",
      "SBV     49.865952\n",
      "dtype: float64\n"
     ]
    }
   ],
   "source": [
    "print(\"Simplified virus results:\")\n",
    "virus_columns = ['ABPV', 'BQCV', 'CBPV', 'DWV', 'SBV']\n",
    "for virus in virus_columns:\n",
    "    data[virus] = data[virus].replace({\"weak positive\": \"positive\"})\n",
    "print(data[['ABPV', 'BQCV', 'CBPV', 'DWV', 'SBV']].apply(pd.Series.value_counts))\n",
    "\n",
    "print(\"\")\n",
    "positive_percentages = (\n",
    "    data[['ABPV', 'BQCV', 'CBPV', 'DWV', 'SBV']]\n",
    "    .apply(lambda col: (col == \"positive\").mean() * 100)\n",
    ")\n",
    "print(\"Percentage of samples positive for each virus:\")\n",
    "print(positive_percentages)"
   ]
  },
  {
   "cell_type": "markdown",
   "metadata": {},
   "source": [
    "## Some Observations\n",
    "- Dataset contains 373 samples from 19 regions\n",
    "- Viruses statuses include \"negative\", \"positive\", \"weak positive\"\n",
    "- There are 2 sample types: \"Adult\" and \"Brood\"\n",
    "- ABPV occurs most frequently (71.58%)\n",
    "- CBPV occurs least frequently (0.80%)"
   ]
  },
  {
   "cell_type": "code",
   "execution_count": 40,
   "metadata": {},
   "outputs": [
    {
     "name": "stdout",
     "output_type": "stream",
     "text": [
      "      ABPV  BQCV  CBPV  DWV  SBV\n",
      "ABPV     0    79     2  161  157\n",
      "BQCV    79     0     1   56   65\n",
      "CBPV     2     1     0    2    1\n",
      "DWV    161    56     2    0  120\n",
      "SBV    157    65     1  120    0\n"
     ]
    },
    {
     "data": {
      "image/png": "[encoded data removed]",
      "text/plain": [
       "<Figure size 640x480 with 2 Axes>"
      ]
     },
     "metadata": {},
     "output_type": "display_data"
    }
   ],
   "source": [
    "# Virus co-occurrence\n",
    "binary_data = data[virus_columns].apply(lambda x: (x == \"positive\").astype(int))\n",
    "co_occurrence_matrix = binary_data.T.dot(binary_data)\n",
    "\n",
    "for i in range(len(co_occurrence_matrix)):\n",
    "    co_occurrence_matrix.iloc[i, i] = 0\n",
    "print(co_occurrence_matrix)\n",
    "    \n",
    "sns.heatmap(co_occurrence_matrix, cmap=\"YlOrRd\", annot=True, fmt=\"d\")\n",
    "plt.title(\"Virus co-occurrence\")\n",
    "plt.show()"
   ]
  },
  {
   "cell_type": "code",
   "execution_count": 41,
   "metadata": {},
   "outputs": [
    {
     "name": "stdout",
     "output_type": "stream",
     "text": [
      "0     46\n",
      "1     82\n",
      "2    101\n",
      "3    107\n",
      "4     37\n",
      "Name: count, dtype: int64\n"
     ]
    },
    {
     "data": {
      "image/png": "[encoded data removed]",
      "text/plain": [
       "<Figure size 640x480 with 1 Axes>"
      ]
     },
     "metadata": {},
     "output_type": "display_data"
    }
   ],
   "source": [
    "# Count number of positive viruses per sample\n",
    "num_positive_viruses_per_sample = binary_data.sum(axis=1)\n",
    "positives_count = num_positive_viruses_per_sample.value_counts().sort_index()\n",
    "print(positives_count)\n",
    "plt.bar(positives_count.index, positives_count.values, color=\"skyblue\")\n",
    "plt.title(\"Distribution of positive viruses per sample\")\n",
    "plt.xlabel(\"Number of positive viruses per sample\")\n",
    "plt.ylabel(\"Number of samples\")\n",
    "plt.xticks(positives_count.index, rotation=90)\n",
    "plt.show()"
   ]
  }
 ],
 "metadata": {
  "kernelspec": {
   "display_name": ".venv",
   "language": "python",
   "name": "python3"
  },
  "language_info": {
   "codemirror_mode": {
    "name": "ipython",
    "version": 3
   },
   "file_extension": ".py",
   "mimetype": "text/x-python",
   "name": "python",
   "nbconvert_exporter": "python",
   "pygments_lexer": "ipython3",
   "version": "3.12.3"
  }
 },
 "nbformat": 4,
 "nbformat_minor": 2
}
